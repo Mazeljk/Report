{
 "cells": [
  {
   "cell_type": "markdown",
   "metadata": {},
   "source": [
    "# Overview\n",
    "\n",
    "- What is the motion planning?\n",
    "    - The essence of planning: $\\underset{x}{argmin}f(x)$\n",
    "    - In different fields\n",
    "        - Robotic fields: generate trajectory to accomplish goals\n",
    "            - RRT, A\\*, D\\* lite, Lattice Planning, and etc.\n",
    "        - Control Theory: Dynamic system to reach an target state\n",
    "            - MPC, LQR. and etc.\n",
    "        - AI: generate state action mapppings\n",
    "            - Reinforcement learning, end to end imitation learning and etc.\n",
    "        - Motion planning for autonomous driving: Safely and smoothly maneuver autonomous driving vehicle to the destination\n",
    "            - X, Y, Time: 3Dimensional Trajectory Optimization Problem\n",
    "            \n",
    "> From motion planning by Steve Lavelle: http://planning.cs.uiuc.edu/par1.pdf"
   ]
  },
  {
   "cell_type": "markdown",
   "metadata": {},
   "source": [
    "## Motion Planning Approaches\n",
    "- Traditional robotic trajectory generation of autonomous driving:\n",
    "    - Configuration space\n",
    "    - RRT based approach: #TODO\n",
    "    - Lattice approach\n",
    "- Modern approaches in autonomous driving\n",
    "    - Darpa Challenge Approaches\n",
    "    - Graph search based method: Lattice in frenet Frame\n",
    "    - Interpolating Curve: Spiral, Polynomial and Splines\n",
    "    - Functional Optimization\n",
    "- Example codes: https://github.com/AtsushiSakai/PythonRobotics\n",
    "    \n",
    "![Planning Approaches](pic/planning_methods.png)\n",
    "\n",
    "\n",
    "> ***Gonzalez, David, et al. \"A Review of Motion Planning Techniques for Automated Vehicles\", 2016***"
   ]
  },
  {
   "cell_type": "markdown",
   "metadata": {},
   "source": [
    "## How to solve a Motion Planning problem?\n",
    "- Simplify the problem: Path Finding Problem\n",
    "    - Ignore speed\n",
    "    - Fixed environment\n",
    "    - classic methods:\n",
    "        - Non-Informative search methods\n",
    "            - BFS & DFS\n",
    "            - Dijkstra\n",
    "        - Informative search methods\n",
    "            - A\\*: Rank unsearched nodes based on combination of current cost plus heuristic cost\n",
    "    - A simple shortest path example\n",
    "    \n",
    "    ![shortest path example](pic/simpleExample.png)\n",
    "    \n",
    "> copyright at: http://qiao.github.io/PathFinding.js/visual/"
   ]
  },
  {
   "cell_type": "markdown",
   "metadata": {},
   "source": [
    "### The challenge of motion planning in autonomous driving system\n",
    "1. Partially Observed Dynamic Environment\n",
    "    - when it observes new map information(such as previously unknown obstacles), it adds the information to its map and, if necessary, replans a new shortest path from its current coordinates to the given goal coordinates. It repeats the process until it reaches the goal coordinates or determines that the goal coordinates cannot be reached. - *From wikipedia*\n",
    "    ![Partially Observe](pic/partially_observe.png)\n",
    "    - use incremental search to slove this: Partially observed information needs local planning and refinement\n",
    "        - D\\*/D\\* lite: Search by partial environment(Algorithm used by Apollo moon landing car)\n",
    "        - Unable to guarantee global optimal solution\n",
    "        \n",
    "> ***Stentz Anthony, \"*Optimal and Efficient Path Planning for Partially-Known Environments*\", 1994***\n",
    " "
   ]
  },
  {
   "cell_type": "markdown",
   "metadata": {},
   "source": [
    "2. How to find a reliable path under parially observed space?\n",
    "    - Continuous representation -> Discretization -> Graph searching(blind, best-first, A*)\n",
    "    - Roadmap Methods\n",
    "        - Visibility graph: *Introduced in the Shakey project at SRI in the late 60s. Can produce shortest paths in 2-D configuration spaces*\n",
    "        - Voronoi field\n",
    "    - PRM\n",
    "        - Construction Phase\n",
    "            - Random Samples in configuration space\n",
    "            - Nearest Neighbor Connections\n",
    "        - Search Phase\n",
    "            - Dijkstra or A\\*'s shortest path\n",
    "    - RRT: An incremental search version of PRM\n",
    "        - Build a tree T of configurations, starting at $X_{start}$\n",
    "        - Extend\n",
    "            - Sample a configuration $X_{rand}$ from C at random\n",
    "            - Find the node $X_{near}$ in T that is closest to $X_{rand}$\n",
    "            - Extend a short path from $X_{near}$ toward $X_{rand}$\n",
    "        - RRT's Problem\n",
    "            - Path is not smooth enough for vehicle maneuver\n",
    "            - Opimal trajectory is not the one with shortest path\n",
    "            - Refinement: Incremental random search with consideration of vehicle dynamic\n",
    "    - Lattice Sampling: Vehicle moving states are discretized into lattice\n",
    "        - Pros: Suitable for on road motion planning\n",
    "        - Cons: Discretizing both spatial and temporal parameters, search space grows exponentially\n",
    "        ![lattice map](pic/lattice_map.png)\n",
    "        \n",
    "        > ***McNaughton, Matthew, et al. \"Motion planning for autonomous driving with a conformal spatiotemporal lattice.\" Robotics and Automation(ICRA). 2011 IEEE International Conference.***\n",
    "        \n",
    "    - Lattice with longitudinal and lateral decomposition\n",
    "        - Pros: Search in 3D lattice space\n",
    "        - Cons: Path Speed behavior is limited by the lattice shape in one planning cycle\n",
    "        ![D-T lattice map](pic/lattice_map2.png)\n",
    "        \n",
    "        > ***Werling, Moritz, et al. \"Optimal trajectory generation for dynamic street scenarios in a frenet frame.\" Robotic and Automation(ICRA), 2010 IEEE International Conference.***\n",
    "        \n",
    "    - Optimization in lattice - Path speed iterative methods\n",
    "    ![Lattice Optimization](pic/LatticeOptimization.png)\n",
    "    \n",
    "    > ***Xu. Webda. et al. \"A real-time motion planner with trajectory optimization for autonomous vehicles.\" Robotic and Automation(ICRA). 2012 IEEE International Conference***\n",
    "    \n",
    "    - Quadratic Programming Approach\n",
    "         - Pros: Finite differencing to model a trajectory, local continuity\n",
    "         - Cons: Not smooth enough, need decision to find a tunnel\n",
    "         ![Quadratic Programming](pic/QuadraticProgramming.png)\n",
    "         \n",
    "         > ***Ziegler, Julius, et al. \"Trajectory planning for Bertha--A local, continuous method.\" Intelligent Vehicles Symposium Proceedings, 2014 IEEE***\n",
    "   \n",
    "   - Spline approaches\n",
    "        - Pros: Use bezier curves to generate smooth path\n",
    "        - Cons: need rule based decisions to-walk through obstacle; Speed profiles are too simple and not scalable\n",
    "        ![Spline](pic/Spline.png)\n",
    "        \n",
    "        > ***Bautista, David Gonzalez, et al. \"Continuous curvature planning with obstacle avoidance capabilities in urban scenarios.\" 2014 IEEE.***"
   ]
  },
  {
   "cell_type": "markdown",
   "metadata": {},
   "source": [
    "3. Autonomous driving car cannot move like we planning on the graph\n",
    "    - Types of Path constraints\n",
    "        - Local constraints: *e.g., avoid collision with obstacles*\n",
    "        - Differential constraints: *e.g., bounded curvature*\n",
    "        - Global constraints: *e.g., combnation of smoothness and length*"
   ]
  },
  {
   "cell_type": "markdown",
   "metadata": {},
   "source": [
    "4. How to construct the traffic regulations that our computer can understand?\n",
    "    - **#TODO**"
   ]
  },
  {
   "cell_type": "markdown",
   "metadata": {},
   "source": [
    "5. Real time calculation\n",
    "    - Normal driver reaction time: 300~500 ms\n",
    "    - Drunk driver: 1000 ms\n",
    "    - Autonomous car planning module: **~100 ms**(using C++)"
   ]
  },
  {
   "cell_type": "markdown",
   "metadata": {},
   "source": [
    "#### Motion planning in Autonomous Driving\n",
    "- Lattice search is simpler and more suitable for autonomous driving on **structured road**\n",
    "- Searching on the 3 Dimensional Lattice is still time consuming; Path Speed iterative search vs. direct search both have pros and cons\n",
    "- Dynamic programming based search method depends on the state dimension\n",
    "- Quadratic programming based method need decision to determine a feasible convex tunnel\n",
    "- Splines are more smooth than direct finite differencing and grid trajectory, but splines need decisions as well."
   ]
  },
  {
   "cell_type": "markdown",
   "metadata": {},
   "source": [
    "### Motion planning with environment\n",
    "- From point-mass model to bicycle model\n",
    "- Understand the requirement from vehicle control perspective\n",
    "- Smooth driving path and speed profile; importance performance index\n",
    "- smooth SL to XY Frenet Frame mapping techniques\n",
    "- Obstacle mapping"
   ]
  },
  {
   "cell_type": "markdown",
   "metadata": {},
   "source": [
    "#### SL Coordinate Frame and XY Coordinate Frame\n",
    "- Centerline of the road is used to construct SL frame\n",
    "    - S: the direction along centerline\n",
    "    - L: the direction orthogonal to the centerline\n",
    "- SL Coordinate to XY Coordinate\n",
    "    - $X = X_r - l * sin(\\theta)$\n",
    "    - $Y = Y_r + l * cos(\\theta)$\n",
    "    - $k = \\frac{1}{1 + \\frac{1}{k_r}}$\n",
    "![SL Coordinate and XY Coordinate](pic/SLcoor.png)"
   ]
  },
  {
   "cell_type": "markdown",
   "metadata": {},
   "source": [
    "#### Obstacle relations\n",
    "- Bounding box: is the rectangle with minimal area that includes the obstavle polygons\n",
    "- Hyperplane separation theorem\n",
    "    - Sufficient and necessary condition: if two convex polygons are separated, there exist a direction that is orthogonal to one of the polygon edges which can separate two convex polygons\n",
    "    \n",
    "    ![Hyerplane separation theorem](pic/Theorem.png)"
   ]
  }
 ],
 "metadata": {
  "kernelspec": {
   "display_name": "Python 3",
   "language": "python",
   "name": "python3"
  },
  "language_info": {
   "codemirror_mode": {
    "name": "ipython",
    "version": 3
   },
   "file_extension": ".py",
   "mimetype": "text/x-python",
   "name": "python",
   "nbconvert_exporter": "python",
   "pygments_lexer": "ipython3",
   "version": "3.7.3"
  }
 },
 "nbformat": 4,
 "nbformat_minor": 2
}
