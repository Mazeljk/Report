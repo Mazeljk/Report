{
 "cells": [
  {
   "cell_type": "markdown",
   "metadata": {},
   "source": [
    "### The kinematics model of the Four-wheel steering vehicle\n",
    "- 4WS bicycle model\n",
    "![4WS bicycle model](pic/4WS_model.png)\n",
    "    - Kinematic equation\n",
    "$$\n",
    "\\begin{cases}\n",
    "\\dot x = v cos(\\varphi + \\beta)\\\\\n",
    "\\dot y = v sin(\\varphi + \\beta)\\\\\n",
    "\\dot \\theta = \\frac{v}{l} (tan\\delta_f - tan\\delta_r)cos\\beta\n",
    "\\end{cases} \\tag{1}\n",
    "$$\n",
    " \n",
    "$where \\; \\varphi \\; is \\; the \\; yaw \\; angle, \\; \\beta \\; is \\; the \\; centroid \\; side \\; angle$\n",
    "\n",
    "- In low speed scenes, the centroid angle can be approximated to zero($\\beta \\approx 0$), so (1) can be simplified to:\n",
    "$$\n",
    "\\begin{cases}\n",
    "\\dot x = v cos(\\varphi)\\\\\n",
    "\\dot y = v sin(\\varphi)\\\\\n",
    "\\dot \\theta = \\frac{v}{l} (tan\\delta_f - tan\\delta_r)\n",
    "\\end{cases} \\tag{2}\n",
    "$$\n",
    "> ***P. Hang, X. Chen, B. Zhang, P. Shi, T. Tang \"Path Planning and Tracking Control for Collision\n",
    "Avoidance of a 4WIS - 4WID Electric Vehicle.\" Automotive Engineering 2019(41).***\n",
    "- The speed in the simplified model above is determined by the displacement per unit time, i.e. the motion step size. I set the step size to 0.1m in the algorithm."
   ]
  },
  {
   "cell_type": "markdown",
   "metadata": {},
   "source": [
    "### Search space\n",
    "- I chose to sample the control input($[steer_f, \\; steer_r, direction]$) instead of sampling the state($[x, \\; y, \\; \\varphi]$).\n",
    "    - $steer_f$: {-0.6, -0.48, -0.36, -0.24, -0.12, 0, 0.12, 0.24, 0.36, 0.48, 0.6}\n",
    "    - $steer_r$: {-0.6, -0.48, -0.36, -0.24, -0.12, 0, 0.12, 0.24, 0.36, 0.48, 0.6}\n",
    "    - direction: {1 , -1}\n",
    "    - All possibilities from one node to the next: $11*11*2=242$(search space too large)\n",
    "    - **Without the use of reeds sheep**, it took about **28 minutes** to find the path in reverse partking.\n",
    "    ![reverse parking](pic/28min.png)\n",
    "- In order to find the path faster, I reduced the search space.\n",
    "    - $steer_f$: {-0.6, -0.4, -0.2, 0, 0.2, 0.4, 0.6}\n",
    "    - $steer_r$: {-0.6, -0.3, 0, 0.3, 0.6}\n",
    "    - direction: {1 , -1}\n",
    "    - All possibilities from one node to the next: $7*5*2=70$\n",
    "    - **With the use of reeds sheep**, it took about **2 minutes** to find the path in reverse partking.\n",
    "    ![reverse parking](pic/2min.png)\n",
    "- According to a simple comparison, the reeds sheep method can be used to speed up the results, but the disadvantage of reeds sheep is that the car always turns at the maximum corner, which may make it more difficult to find results in parallel parking.\n",
    "    - improvement measures\n",
    "        - Reeds sheep is executed only when the distance between the current point and the end point is less than a certain value, or only when the heuristic cost of the current point is less than a certain value.\n",
    "        - Reduce the maximum curvature when in parallel parking"
   ]
  },
  {
   "cell_type": "markdown",
   "metadata": {},
   "source": [
    "### Cost so far and cost to go\n",
    "- the cost function for cost so far\n",
    "    - backward penalty: cost += $w_b \\times L$, where L is the motion step\n",
    "    - switch direction penalty: cost += $w_{sw}, \\; if \\; d_i \\neq d_{i-1}$\n",
    "    - steer penalty: cost += $w_s \\times (|steer_f| +|steer_r|)$\n",
    "    - steer change penalty: cost += $w_{sc} \\times |steer_f - steer_r|$\n",
    "    - Adjusting the weight of each coefficient can speed up the search for results\n",
    "    - TODO: further adjust the weight\n",
    "    - It took about 1 minutes to find the path in reverse partking.\n",
    "    ![reverse parking](pic/1min.png)\n",
    "- the heuristic cost(cost to go)\n",
    "    - Here I use the A-star algorithm to get the distance from the end point to each point on the map and take this as the heuristic cost\n",
    "    - The resolution of the map largely affects the speed of the algorithm\n",
    "    - In the case of  map resolution 1 m(0.3 -> 1), it took about **8 minutes** to find the path in parallel parking\n",
    "    ![parallel parking](pic/8minparallel.png)"
   ]
  },
  {
   "cell_type": "markdown",
   "metadata": {},
   "source": [
    "### collison check\n",
    "1. use a two-step collision detection\n",
    "    - The first step: a circle centered on the symmetric center of the car and diameter is the length of rectangular diagonal\n",
    "    - The second step: Use the rectangle to detect, here the **safety distance($\\epsilon$)** is added so that the rectangle is slightly larger than the car\n",
    "2. use two different sized circles to approximate the car, like the picture below\n",
    "![circular bounding regions](pic/circularbounding.png)\n",
    "    - Faster than the first method"
   ]
  },
  {
   "cell_type": "markdown",
   "metadata": {},
   "source": [
    "### Visualized results\n",
    "- Dependency: \n",
    "    - python 3.7\n",
    "    - numpy 1.16.1\n",
    "    - scikit-learn 0.20.2\n",
    "    - matplotlib 3.0.2\n",
    "- In `AutonomousParking_demo/` you can get the results by executing `python3 main.py`, may need to wait about 3 minutes\n",
    "\n",
    "- Reverse parking\n",
    "![reverse parking(fix rear tire)](pic/Backwards_rear_fix.gif \"Reverse\")\n",
    "    - The gif file is stored in `AutonomousParking_demo/results`\n",
    "- Parallel parking\n",
    "    - After modifying the algorithm, the result cannot be obtained for a long time. It is suspected that it is in an infinite loop. But in the reverse parking scenario, the algorithm can get results in a short time. So I need some time to debug and see what went wrong."
   ]
  },
  {
   "cell_type": "code",
   "execution_count": null,
   "metadata": {},
   "outputs": [],
   "source": []
  }
 ],
 "metadata": {
  "kernelspec": {
   "display_name": "Python 3",
   "language": "python",
   "name": "python3"
  },
  "language_info": {
   "codemirror_mode": {
    "name": "ipython",
    "version": 3
   },
   "file_extension": ".py",
   "mimetype": "text/x-python",
   "name": "python",
   "nbconvert_exporter": "python",
   "pygments_lexer": "ipython3",
   "version": "3.7.4"
  }
 },
 "nbformat": 4,
 "nbformat_minor": 2
}
