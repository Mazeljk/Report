{
 "cells": [
  {
   "cell_type": "markdown",
   "metadata": {},
   "source": [
    "## The optimal control probelm\n",
    "#### the standard form\n",
    "$$\n",
    "\\begin{align}\n",
    "&minimize \\; f_0(x) \\\\\n",
    "&subject \\; to \\; f_i(x) \\leq b_i, \\; i = 1, 2, ..., m\n",
    "\\end{align}\n",
    "$$\n",
    "\n",
    "Here the vetcor $x = (x_1, ..., x_n)$ is the optimization variable of the problem, the function $f_0: R^n \\rightarrow R$ is the objective function, and the constants $b_1, ..., b_m$ are the limits, or bounds, for the constraints"
   ]
  },
  {
   "cell_type": "markdown",
   "metadata": {},
   "source": [
    "### Objective function(temporary)\n",
    "\n",
    "$$\n",
    "f(X, U) = (X - X_r)^TW_s(X - X_r) + U^TW_{u_0}U + \\Delta U^T W_{u_1} \\Delta U\n",
    "$$\n",
    "\n",
    "with variables\n",
    "\n",
    "$$\n",
    "\\begin{align}\n",
    "The \\; state \\; of \\; the \\; Vehicle: X = \\left[\\begin{matrix}x \\\\ y \\\\ \\theta \\\\ v \\end{matrix}\\right] \\\\\n",
    "The \\; reference \\; state \\; of \\; the \\; Vehicle: X_r = \\left[\\begin{matrix}x_r \\\\ y_r \\\\ \\theta_r \\\\ v_r \\end{matrix}\\right] \\\\\n",
    "The \\; control \\; inputs: \\qquad U = \\left[\\begin{matrix}\\delta_f \\\\ \\delta_r \\\\ a\\end{matrix}\\right] \\\\\n",
    "The \\; weigths \\; of \\; the \\; state: \\qquad W_s \\\\\n",
    "The \\; weigths \\; of \\; the \\; control: \\quad W_{u_0}, W_{u_1}\n",
    "\\end{align}\n",
    "$$\n",
    "\n",
    "where $x = (x_1, ..., x_{N+1}), \\; y = (y_1, ..., y_{N+1})$ are the vector of the position, $\\theta = (\\theta_1, .. \\theta_{N+1})$ is the vector of the yaw, $v = (v_1, ..., v_{N+1})$ is the vector of the speed, $a = (a_1, ..., a_{N+1})$ is the acceleration, $N$ is the number of the sampled points"
   ]
  },
  {
   "cell_type": "markdown",
   "metadata": {},
   "source": [
    "### Constraints"
   ]
  },
  {
   "cell_type": "markdown",
   "metadata": {},
   "source": [
    "#### Initial conditions\n",
    "\n",
    "$$\n",
    "\\begin{align}\n",
    "X_{1:4, 1} = X_0 \\\\\n",
    "X_{1:4, N + 1} = X_e\n",
    "\\end{align}\n",
    "$$\n",
    "\n",
    "where $X_0$ and $X_e$ are respectively the starting and ending state, $N$ is the number of sampling points"
   ]
  },
  {
   "cell_type": "markdown",
   "metadata": {},
   "source": [
    "#### Dynamic constraints\n",
    "\n",
    "$$\n",
    "\\begin{align}\n",
    "X_{i+1} &= X_i + Ts \\times \\dot X_i \\\\\n",
    "        &= X_i + Ts \\left[\\begin{matrix}(X_{4, i} + \\frac{1}{2}U_{2, i}Ts)cos(X_{3, i} + \\frac{1}{2}TsX_{4, i}\\frac{tanU_{1, i}}{L}) \\\\ (X_{4, i} + \\frac{1}{2}U_{2, i}Ts)sin(X_{3, i} + \\frac{1}{2}TsX_{4, i}\\frac{tanU_{1, i}}{L}) \\\\ (X_{4, i} + \\frac{1}{2}U_{2, i}Ts)\\frac{tanU_{1, i}}{L} \\\\ U_{2, i} \\end{matrix}\\right]\n",
    "\\end{align}\n",
    "$$\n",
    "\n",
    "where $Ts$ is sampling time"
   ]
  },
  {
   "cell_type": "markdown",
   "metadata": {},
   "source": [
    "#### Physical constraints\n",
    "\n",
    "$$\n",
    "x_{min} \\leq X_{1, i} \\leq x_{max} \\\\\n",
    "y_{min} \\leq X_{2, i} \\leq y_{max} \\\\\n",
    "\\delta_{min} \\leq U_{1, i}, \\; U_{2, i} \\leq \\delta_{max} \\\\\n",
    "a_{min} \\leq U_{3, i} \\leq a_{max} \\\\\n",
    "\\Delta u_{min} \\leq \\Delta U_{1, i}, \\; \\Delta U_{2, i} \\leq \\Delta u_{max}\n",
    "$$\n",
    "\n",
    "where $x_{min}, x_{max}, y_{min}, y_{max}$ represents the boundary of the physical map, $\\delta_{min}, \\delta_{max}$ represent physical limitations of the vehicle, $a_{min}, a_{max}, \\Delta u_{min}, \\Delta u_{max}$ indicate the requirements for comfort"
   ]
  },
  {
   "cell_type": "markdown",
   "metadata": {},
   "source": [
    "   - the vehicle object  \n",
    "\n",
    "   $$\\mathbb{V}(X_k) = R(X_k)\\mathbb{B} + t(X_k), \\qquad \\mathbb{B}:=\\{y:Gy \\preceq_\\overline{\\kappa} g\\}$$\n",
    "\n",
    "   where $R$ is an rotation matrix and $t$ is the translation vector, the matrics(G, g) and the cone $\\overline{\\kappa}$ define the shape of the compact set $\\mathbb{B}$\n",
    "\n",
    "   - the obstacle object  \n",
    "\n",
    "   $$\n",
    "   \\mathbb{O}^{(m)} = \\{y: A^{(m)}y \\preceq_\\kappa b^{(m)}\\}\n",
    "   $$\n",
    "\n",
    "   where $A^{(m)}$, $b^{(m)}$ and $\\kappa$ is a closed convex pointed cone with non-empty interiror"
   ]
  },
  {
   "cell_type": "markdown",
   "metadata": {},
   "source": [
    "   - distance between sets  \n",
    "   The distance between two sets O and V, in a norm $\\parallel \\cdot \\parallel$, is defined as\n",
    "   \n",
    "   $$\n",
    "   \\begin{align}\n",
    "   dist(O, V) &= inf\\{\\parallel o - v \\parallel | v \\in \\mathbb{V}, o \\in \\mathbb{O}\\} \\\\\n",
    "              &= inf\\{\\parallel o - R(X_k)v' - t(X_k) \\parallel | v' \\in \\mathbb{B}, o \\in \\mathbb{O}\\}\n",
    "   \\end{align}\n",
    "   $$\n",
    "    \n",
    "   The two sets V and O do not intersect if $dist(O, V) > 0$. And the distance between them is the optimal value of the problem  \n",
    "   \n",
    "   $$\n",
    "   \\begin{align}\n",
    "   minimize \\qquad  & \\parallel o - R(X_k)v' - t(X_k) \\parallel_2 \\\\\n",
    "   subject \\; to \\qquad &Ao \\preceq_\\kappa b \\\\\n",
    "                        &Gv' \\preceq_\\overline{\\kappa} g\n",
    "   \\end{align}\n",
    "   $$\n",
    "   \n",
    "   so the Lagrangian of this problem is  \n",
    "   \n",
    "   $$\n",
    "   \\begin{align}\n",
    "   &L(o, v', \\lambda, z, \\mu) = \\parallel o - R(X_k)v' - t(X_k) \\parallel + \\lambda^T (Ao - b) + \\mu^T (Gv' - g) + z^T\\left[o - R(X_k)v' - t(X_k)\\right] \\\\\n",
    "   &\\Updownarrow \\\\\n",
    "   &the \\; dual \\; function: \\\\\n",
    "   \\end{align}\n",
    "   $$\n",
    "   \n",
    "   $$\n",
    "   \\begin{align}\n",
    "   g(\\lambda, z, \\mu) &= \\underset{o, v'}{inf}\\{\\lambda^T (Ao - b) + \\mu^T (Gv' - g) + z^T\\left[o - R(X_k)v' - t(X_k)\\right] \\} \\\\\n",
    "                      &= \\underset{o}{inf}\\{\\lambda^T (Ao - b) + z^T\\left[o - t(X_k)\\right]\\} + \\underset{v'}{inf}\\{\\mu^T (Gv' - g) - z^TR(X_k)v'\\} \\\\\n",
    "                      &= \\begin{cases} \\underset{o}{inf}\\{\\lambda^T (Ao - b) + z^T\\left[o - t(X_k)\\right]\\} + \\underset{v'}{inf}\\{\\mu^T (Gv' - g) - z^TR(X_k)v'\\} \\quad \\parallel z \\parallel_* \\leq 1 \\\\ -\\infty \\qquad \\qquad \\qquad \\qquad \\qquad \\qquad \\qquad \\qquad \\qquad \\qquad \\qquad \\qquad  \\; \\; \\; otherwise\\end{cases}\n",
    "   \\end{align} \n",
    "   $$\n",
    "   \n",
    "   If $\\lambda$, $\\mu$ and $z$ are dual feasible, then for all $o \\in \\mathbb{O}$, $v' \\in \\mathbb{B}$  \n",
    "   \n",
    "   $$\n",
    "   z^To = -\\lambda^TAo \\geq -\\lambda^Tb, \\qquad z^TR(X_k)v' = \\mu^TGv' \\leq \\mu^Tg\n",
    "   $$\n",
    "   \n",
    "   and if the dual objective value is positive,  \n",
    "   \n",
    "   $$\n",
    "   z^To - z^Tv' \\geq -\\lambda^Tb - \\mu^Tg > 0,\n",
    "   $$\n",
    "   \n",
    "   $i.e., \\; z = -A^T\\lambda = RG^T\\mu$ defines a separating hyperplane."
   ]
  },
  {
   "cell_type": "markdown",
   "metadata": {},
   "source": [
    "   - Applying these duality results to set defined by linear inequalities $Ao \\preceq_\\kappa b$, $Gv' \\preceq_\\overline{\\kappa} g$, so the dual problem is  \n",
    "   \n",
    "   $$\n",
    "   \\begin{align}\n",
    "   maximize \\qquad &\\lambda^T (At(X_k) - b) - \\mu^Tg \\\\\n",
    "   subject \\; to \\qquad &A^T\\lambda + z = 0 \\\\\n",
    "   &RG^T\\mu - z = 0 \\\\\n",
    "   &\\parallel z \\parallel \\leq 1 \\\\\n",
    "   &\\lambda \\succeq_{\\kappa^*} 0, \\mu \\succeq_{\\overline{\\kappa}^*} 0\n",
    "   \\end{align}\n",
    "   $$\n",
    "   \n",
    "   where $\\kappa^*$ and $\\overline{\\kappa}^*$ are the dual cones of $\\kappa$ and $\\overline{\\kappa}$, respectively  \n",
    "   \n",
    "   Equivalent to\n",
    "\n",
    "   $$\n",
    "   \\lambda^T (At(X_k) - b) - \\mu^Tg > 0, \\; A^T\\lambda +  RG^T\\mu = 0, \\parallel A^T\\lambda \\parallel_* \\leq 1\n",
    "   $$\n",
    "\n",
    "- so the form of restriction is  \n",
    "\n",
    "$$\n",
    "dist(O, V) > d_{min} \\Leftrightarrow \\exists \\lambda \\succeq_{\\kappa^*} 0, \\mu \\succeq_{\\overline{\\kappa}^*} 0:  \\lambda^T (At(X_k) - b) - \\mu^Tg > d_{min}, \\; A^T\\lambda +  RG^T\\mu = 0, \\parallel A^T\\lambda \\parallel_* \\leq 1\n",
    "$$"
   ]
  },
  {
   "cell_type": "markdown",
   "metadata": {},
   "source": [
    "#### Further Improvement\n",
    "- Consider the limitations of dynamic obstacles(**TODO**)"
   ]
  }
 ],
 "metadata": {
  "kernelspec": {
   "display_name": "Python 3",
   "language": "python",
   "name": "python3"
  },
  "language_info": {
   "codemirror_mode": {
    "name": "ipython",
    "version": 3
   },
   "file_extension": ".py",
   "mimetype": "text/x-python",
   "name": "python",
   "nbconvert_exporter": "python",
   "pygments_lexer": "ipython3",
   "version": "3.7.4"
  }
 },
 "nbformat": 4,
 "nbformat_minor": 2
}
